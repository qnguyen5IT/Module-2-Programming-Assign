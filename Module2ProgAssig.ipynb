{
 "cells": [
  {
   "cell_type": "code",
   "execution_count": 13,
   "id": "3858d3e1-bfad-4f53-bc30-d5d3b368e216",
   "metadata": {},
   "outputs": [
    {
     "name": "stdout",
     "output_type": "stream",
     "text": [
      "too low\n"
     ]
    }
   ],
   "source": [
    "secret = 7\n",
    "guess = 4 \n",
    "\n",
    "if guess > secret: \n",
    "    print(\"too high\")\n",
    "elif guess < secret: \n",
    "    print(\"too low\") \n",
    "else: \n",
    "    print(\"just right\")"
   ]
  },
  {
   "cell_type": "code",
   "execution_count": 14,
   "id": "17f2c146-029f-48a2-a8eb-512c311685b6",
   "metadata": {},
   "outputs": [
    {
     "name": "stdout",
     "output_type": "stream",
     "text": [
      "cherry\n"
     ]
    }
   ],
   "source": [
    "small = True \n",
    "green = False \n",
    "\n",
    "if small and not green: \n",
    "    print(\"cherry\")\n",
    "elif small and green: \n",
    "    print(\"pea\") \n",
    "elif not small and green: \n",
    "    print(\"watermelon\") \n",
    "else: \n",
    "    print(\"pumpkin\")"
   ]
  },
  {
   "cell_type": "code",
   "execution_count": 16,
   "id": "9db6d607-1ff2-444f-be80-1772e91a7326",
   "metadata": {},
   "outputs": [
    {
     "name": "stdout",
     "output_type": "stream",
     "text": [
      "3\n",
      "2\n",
      "1\n",
      "0\n"
     ]
    }
   ],
   "source": [
    "numlist = [3,2,1,0]\n",
    "for n in numlist: \n",
    "    print(n)"
   ]
  },
  {
   "cell_type": "code",
   "execution_count": 18,
   "id": "48ce6fc3-3d82-47f2-b1d1-f2c26bbe9655",
   "metadata": {},
   "outputs": [
    {
     "name": "stdout",
     "output_type": "stream",
     "text": [
      "too low\n",
      "too low\n",
      "too low\n",
      "too low\n",
      "too low\n",
      "too low\n",
      "found it\n",
      "oops\n"
     ]
    }
   ],
   "source": [
    "guess_me = 7 \n",
    "number = 1 \n",
    "\n",
    "while True: \n",
    "    if number < guess_me: \n",
    "        print('too low') \n",
    "    elif number == guess_me: \n",
    "        print('found it') \n",
    "    else: \n",
    "        print('oops')\n",
    "        break\n",
    "    number += 1"
   ]
  },
  {
   "cell_type": "code",
   "execution_count": 19,
   "id": "81ffa56a-a805-4106-b7cf-30dbf5eec0bd",
   "metadata": {},
   "outputs": [
    {
     "name": "stdout",
     "output_type": "stream",
     "text": [
      "too low\n",
      "too low\n",
      "too low\n",
      "too low\n",
      "too low\n",
      "found it!\n"
     ]
    }
   ],
   "source": [
    "guess_me = 5 \n",
    "\n",
    "for number in range(10): \n",
    "    if number < guess_me: \n",
    "        print('too low')\n",
    "    elif number == guess_me: \n",
    "        print('found it!')\n",
    "        break\n",
    "    else: \n",
    "        print('oops')\n",
    "        break"
   ]
  },
  {
   "cell_type": "code",
   "execution_count": null,
   "id": "a4709888-c1a7-4b28-8d07-d4b026b17213",
   "metadata": {},
   "outputs": [],
   "source": []
  }
 ],
 "metadata": {
  "kernelspec": {
   "display_name": "Python 3 (ipykernel)",
   "language": "python",
   "name": "python3"
  },
  "language_info": {
   "codemirror_mode": {
    "name": "ipython",
    "version": 3
   },
   "file_extension": ".py",
   "mimetype": "text/x-python",
   "name": "python",
   "nbconvert_exporter": "python",
   "pygments_lexer": "ipython3",
   "version": "3.12.4"
  }
 },
 "nbformat": 4,
 "nbformat_minor": 5
}
